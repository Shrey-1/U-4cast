{
 "cells": [
  {
   "cell_type": "code",
   "execution_count": 61,
   "metadata": {},
   "outputs": [],
   "source": [
    "import pandas as pd\n",
    "import warnings\n",
    "import plotly.express as plt\n",
    "warnings.filterwarnings('ignore')\n",
    "df=pd.read_csv('D:\\\\Projects\\\\U-4cast\\\\data\\\\data.csv')"
   ]
  },
  {
   "cell_type": "code",
   "execution_count": null,
   "metadata": {},
   "outputs": [],
   "source": []
  },
  {
   "cell_type": "code",
   "execution_count": 62,
   "metadata": {},
   "outputs": [
    {
     "data": {
      "text/html": [
       "<div>\n",
       "<style scoped>\n",
       "    .dataframe tbody tr th:only-of-type {\n",
       "        vertical-align: middle;\n",
       "    }\n",
       "\n",
       "    .dataframe tbody tr th {\n",
       "        vertical-align: top;\n",
       "    }\n",
       "\n",
       "    .dataframe thead th {\n",
       "        text-align: right;\n",
       "    }\n",
       "</style>\n",
       "<table border=\"1\" class=\"dataframe\">\n",
       "  <thead>\n",
       "    <tr style=\"text-align: right;\">\n",
       "      <th></th>\n",
       "      <th>date</th>\n",
       "      <th>time</th>\n",
       "      <th>min_temp</th>\n",
       "      <th>max_temp</th>\n",
       "      <th>avg_temp</th>\n",
       "      <th>humidity</th>\n",
       "      <th>AQI</th>\n",
       "      <th>baro_pressure</th>\n",
       "    </tr>\n",
       "  </thead>\n",
       "  <tbody>\n",
       "    <tr>\n",
       "      <th>0</th>\n",
       "      <td>2022-07-01</td>\n",
       "      <td>00:00:00</td>\n",
       "      <td>20.3</td>\n",
       "      <td>24.3</td>\n",
       "      <td>22.3</td>\n",
       "      <td>85.02</td>\n",
       "      <td>273</td>\n",
       "      <td>1004.0</td>\n",
       "    </tr>\n",
       "    <tr>\n",
       "      <th>1</th>\n",
       "      <td>2022-07-01</td>\n",
       "      <td>01:00:00</td>\n",
       "      <td>20.1</td>\n",
       "      <td>24.1</td>\n",
       "      <td>22.1</td>\n",
       "      <td>85.00</td>\n",
       "      <td>272</td>\n",
       "      <td>1004.0</td>\n",
       "    </tr>\n",
       "    <tr>\n",
       "      <th>2</th>\n",
       "      <td>2022-07-01</td>\n",
       "      <td>02:00:00</td>\n",
       "      <td>24.4</td>\n",
       "      <td>28.4</td>\n",
       "      <td>26.4</td>\n",
       "      <td>98.81</td>\n",
       "      <td>265</td>\n",
       "      <td>997.7</td>\n",
       "    </tr>\n",
       "    <tr>\n",
       "      <th>3</th>\n",
       "      <td>2022-07-01</td>\n",
       "      <td>03:00:00</td>\n",
       "      <td>19.7</td>\n",
       "      <td>23.7</td>\n",
       "      <td>21.7</td>\n",
       "      <td>87.13</td>\n",
       "      <td>269</td>\n",
       "      <td>1003.0</td>\n",
       "    </tr>\n",
       "    <tr>\n",
       "      <th>4</th>\n",
       "      <td>2022-07-01</td>\n",
       "      <td>04:00:00</td>\n",
       "      <td>19.6</td>\n",
       "      <td>23.6</td>\n",
       "      <td>21.6</td>\n",
       "      <td>87.13</td>\n",
       "      <td>270</td>\n",
       "      <td>1003.0</td>\n",
       "    </tr>\n",
       "  </tbody>\n",
       "</table>\n",
       "</div>"
      ],
      "text/plain": [
       "         date      time  min_temp  max_temp  avg_temp  humidity  AQI  \\\n",
       "0  2022-07-01  00:00:00      20.3      24.3      22.3     85.02  273   \n",
       "1  2022-07-01  01:00:00      20.1      24.1      22.1     85.00  272   \n",
       "2  2022-07-01  02:00:00      24.4      28.4      26.4     98.81  265   \n",
       "3  2022-07-01  03:00:00      19.7      23.7      21.7     87.13  269   \n",
       "4  2022-07-01  04:00:00      19.6      23.6      21.6     87.13  270   \n",
       "\n",
       "   baro_pressure  \n",
       "0         1004.0  \n",
       "1         1004.0  \n",
       "2          997.7  \n",
       "3         1003.0  \n",
       "4         1003.0  "
      ]
     },
     "execution_count": 62,
     "metadata": {},
     "output_type": "execute_result"
    }
   ],
   "source": [
    "df.head()"
   ]
  },
  {
   "cell_type": "code",
   "execution_count": 63,
   "metadata": {},
   "outputs": [
    {
     "name": "stdout",
     "output_type": "stream",
     "text": [
      "Shape of data (169, 2)\n"
     ]
    }
   ],
   "source": [
    "df=df.dropna()\n",
    "pre_df = df[['date','time','min_temp', 'avg_temp']]\n",
    "predict_df = pre_df.groupby('date')['avg_temp'].mean().to_frame().reset_index()\n",
    "predict_df['avg_temp'] = round(predict_df['avg_temp'],2)\n",
    "# predict_df.rename(columns = {'min_temp':'avg_temp'}, inplace = True)\n",
    "df = predict_df\n",
    "print('Shape of data',df.shape)\n",
    "df.head()\n",
    "df\n",
    "df=df.set_index('date')"
   ]
  },
  {
   "cell_type": "code",
   "execution_count": 64,
   "metadata": {},
   "outputs": [
    {
     "data": {
      "text/plain": [
       "<matplotlib.axes._subplots.AxesSubplot at 0x238689baa90>"
      ]
     },
     "execution_count": 64,
     "metadata": {},
     "output_type": "execute_result"
    },
    {
     "data": {
      "image/png": "[encoded data removed]",
      "text/plain": [
       "<Figure size 864x360 with 1 Axes>"
      ]
     },
     "metadata": {
      "needs_background": "light"
     },
     "output_type": "display_data"
    }
   ],
   "source": [
    "df['avg_temp'].plot(figsize=(12,5))"
   ]
  },
  {
   "cell_type": "code",
   "execution_count": 65,
   "metadata": {},
   "outputs": [],
   "source": [
    "from statsmodels.tsa.stattools import adfuller\n",
    "\n",
    "def adf_test(dataset):\n",
    "  dftest = adfuller(dataset, autolag = 'AIC')\n",
    "  print(\"1. ADF : \",dftest[0])\n",
    "  print(\"2. P-Value : \", dftest[1])\n",
    "  print(\"3. Num Of Lags : \", dftest[2])\n",
    "  print(\"4. Num Of Observations Used For ADF Regression and Critical Values Calculation :\", dftest[3])\n",
    "  print(\"5. Critical Values :\")\n",
    "  for key, val in dftest[4].items():\n",
    "      print(\"\\t\",key, \": \", val)"
   ]
  },
  {
   "cell_type": "code",
   "execution_count": 66,
   "metadata": {},
   "outputs": [
    {
     "name": "stdout",
     "output_type": "stream",
     "text": [
      "1. ADF :  -1.0652046820388947\n",
      "2. P-Value :  0.7287466061021849\n",
      "3. Num Of Lags :  0\n",
      "4. Num Of Observations Used For ADF Regression and Critical Values Calculation : 168\n",
      "5. Critical Values :\n",
      "\t 1% :  -3.4698858990744115\n",
      "\t 5% :  -2.8789026251889647\n",
      "\t 10% :  -2.5760266680839004\n"
     ]
    }
   ],
   "source": [
    "adf_test(df['avg_temp'])"
   ]
  },
  {
   "cell_type": "code",
   "execution_count": 67,
   "metadata": {},
   "outputs": [
    {
     "data": {
      "text/html": [
       "<table class=\"simpletable\">\n",
       "<caption>SARIMAX Results</caption>\n",
       "<tr>\n",
       "  <th>Dep. Variable:</th>           <td>y</td>        <th>  No. Observations:  </th>    <td>169</td>  \n",
       "</tr>\n",
       "<tr>\n",
       "  <th>Model:</th>           <td>SARIMAX(0, 1, 0)</td> <th>  Log Likelihood     </th> <td>-302.236</td>\n",
       "</tr>\n",
       "<tr>\n",
       "  <th>Date:</th>            <td>Fri, 16 Dec 2022</td> <th>  AIC                </th>  <td>606.471</td>\n",
       "</tr>\n",
       "<tr>\n",
       "  <th>Time:</th>                <td>15:34:22</td>     <th>  BIC                </th>  <td>609.595</td>\n",
       "</tr>\n",
       "<tr>\n",
       "  <th>Sample:</th>             <td>07-01-2022</td>    <th>  HQIC               </th>  <td>607.739</td>\n",
       "</tr>\n",
       "<tr>\n",
       "  <th></th>                   <td>- 12-16-2022</td>   <th>                     </th>     <td> </td>   \n",
       "</tr>\n",
       "<tr>\n",
       "  <th>Covariance Type:</th>        <td>opg</td>       <th>                     </th>     <td> </td>   \n",
       "</tr>\n",
       "</table>\n",
       "<table class=\"simpletable\">\n",
       "<tr>\n",
       "     <td></td>       <th>coef</th>     <th>std err</th>      <th>z</th>      <th>P>|z|</th>  <th>[0.025</th>    <th>0.975]</th>  \n",
       "</tr>\n",
       "<tr>\n",
       "  <th>sigma2</th> <td>    2.1386</td> <td>    0.110</td> <td>   19.375</td> <td> 0.000</td> <td>    1.922</td> <td>    2.355</td>\n",
       "</tr>\n",
       "</table>\n",
       "<table class=\"simpletable\">\n",
       "<tr>\n",
       "  <th>Ljung-Box (L1) (Q):</th>     <td>0.07</td> <th>  Jarque-Bera (JB):  </th> <td>362.98</td>\n",
       "</tr>\n",
       "<tr>\n",
       "  <th>Prob(Q):</th>                <td>0.80</td> <th>  Prob(JB):          </th>  <td>0.00</td> \n",
       "</tr>\n",
       "<tr>\n",
       "  <th>Heteroskedasticity (H):</th> <td>0.38</td> <th>  Skew:              </th>  <td>0.58</td> \n",
       "</tr>\n",
       "<tr>\n",
       "  <th>Prob(H) (two-sided):</th>    <td>0.00</td> <th>  Kurtosis:          </th>  <td>10.11</td>\n",
       "</tr>\n",
       "</table><br/><br/>Warnings:<br/>[1] Covariance matrix calculated using the outer product of gradients (complex-step)."
      ],
      "text/plain": [
       "<class 'statsmodels.iolib.summary.Summary'>\n",
       "\"\"\"\n",
       "                               SARIMAX Results                                \n",
       "==============================================================================\n",
       "Dep. Variable:                      y   No. Observations:                  169\n",
       "Model:               SARIMAX(0, 1, 0)   Log Likelihood                -302.236\n",
       "Date:                Fri, 16 Dec 2022   AIC                            606.471\n",
       "Time:                        15:34:22   BIC                            609.595\n",
       "Sample:                    07-01-2022   HQIC                           607.739\n",
       "                         - 12-16-2022                                         \n",
       "Covariance Type:                  opg                                         \n",
       "==============================================================================\n",
       "                 coef    std err          z      P>|z|      [0.025      0.975]\n",
       "------------------------------------------------------------------------------\n",
       "sigma2         2.1386      0.110     19.375      0.000       1.922       2.355\n",
       "===================================================================================\n",
       "Ljung-Box (L1) (Q):                   0.07   Jarque-Bera (JB):               362.98\n",
       "Prob(Q):                              0.80   Prob(JB):                         0.00\n",
       "Heteroskedasticity (H):               0.38   Skew:                             0.58\n",
       "Prob(H) (two-sided):                  0.00   Kurtosis:                        10.11\n",
       "===================================================================================\n",
       "\n",
       "Warnings:\n",
       "[1] Covariance matrix calculated using the outer product of gradients (complex-step).\n",
       "\"\"\""
      ]
     },
     "execution_count": 67,
     "metadata": {},
     "output_type": "execute_result"
    }
   ],
   "source": [
    "from pmdarima import auto_arima\n",
    "# Ignore harmless warnings\n",
    "import warnings\n",
    "warnings.filterwarnings(\"ignore\")\n",
    "\n",
    "stepwise_fit = auto_arima(df['avg_temp'], suppress_warnings=True)           \n",
    "stepwise_fit.summary()"
   ]
  },
  {
   "cell_type": "code",
   "execution_count": 68,
   "metadata": {},
   "outputs": [],
   "source": [
    "from statsmodels.tsa.arima_model import ARIMA"
   ]
  },
  {
   "cell_type": "code",
   "execution_count": 69,
   "metadata": {},
   "outputs": [
    {
     "name": "stdout",
     "output_type": "stream",
     "text": [
      "(169, 1)\n",
      "(139, 1) (30, 1)\n",
      "avg_temp    22.78\n",
      "Name: 2022-11-17, dtype: float64 avg_temp    13.45\n",
      "Name: 2022-12-16, dtype: float64\n"
     ]
    }
   ],
   "source": [
    "print(df.shape)\n",
    "train=df.iloc[:-30]\n",
    "test=df.iloc[-30:]\n",
    "print(train.shape,test.shape)\n",
    "print(test.iloc[0],test.iloc[-1])"
   ]
  },
  {
   "cell_type": "code",
   "execution_count": 70,
   "metadata": {},
   "outputs": [
    {
     "data": {
      "text/html": [
       "<table class=\"simpletable\">\n",
       "<caption>SARIMAX Results</caption>\n",
       "<tr>\n",
       "  <th>Dep. Variable:</th>       <td>avg_temp</td>     <th>  No. Observations:  </th>    <td>139</td>  \n",
       "</tr>\n",
       "<tr>\n",
       "  <th>Model:</th>            <td>ARIMA(1, 0, 5)</td>  <th>  Log Likelihood     </th> <td>-250.656</td>\n",
       "</tr>\n",
       "<tr>\n",
       "  <th>Date:</th>            <td>Fri, 16 Dec 2022</td> <th>  AIC                </th>  <td>517.312</td>\n",
       "</tr>\n",
       "<tr>\n",
       "  <th>Time:</th>                <td>15:34:38</td>     <th>  BIC                </th>  <td>540.788</td>\n",
       "</tr>\n",
       "<tr>\n",
       "  <th>Sample:</th>             <td>07-01-2022</td>    <th>  HQIC               </th>  <td>526.852</td>\n",
       "</tr>\n",
       "<tr>\n",
       "  <th></th>                   <td>- 11-16-2022</td>   <th>                     </th>     <td> </td>   \n",
       "</tr>\n",
       "<tr>\n",
       "  <th>Covariance Type:</th>        <td>opg</td>       <th>                     </th>     <td> </td>   \n",
       "</tr>\n",
       "</table>\n",
       "<table class=\"simpletable\">\n",
       "<tr>\n",
       "     <td></td>       <th>coef</th>     <th>std err</th>      <th>z</th>      <th>P>|z|</th>  <th>[0.025</th>    <th>0.975]</th>  \n",
       "</tr>\n",
       "<tr>\n",
       "  <th>const</th>  <td>   28.0043</td> <td>    1.008</td> <td>   27.795</td> <td> 0.000</td> <td>   26.030</td> <td>   29.979</td>\n",
       "</tr>\n",
       "<tr>\n",
       "  <th>ar.L1</th>  <td>    0.8578</td> <td>    0.098</td> <td>    8.734</td> <td> 0.000</td> <td>    0.665</td> <td>    1.050</td>\n",
       "</tr>\n",
       "<tr>\n",
       "  <th>ma.L1</th>  <td>    0.0305</td> <td>    0.136</td> <td>    0.224</td> <td> 0.823</td> <td>   -0.236</td> <td>    0.297</td>\n",
       "</tr>\n",
       "<tr>\n",
       "  <th>ma.L2</th>  <td>   -0.0435</td> <td>    0.097</td> <td>   -0.450</td> <td> 0.653</td> <td>   -0.233</td> <td>    0.146</td>\n",
       "</tr>\n",
       "<tr>\n",
       "  <th>ma.L3</th>  <td>    0.0440</td> <td>    0.117</td> <td>    0.375</td> <td> 0.708</td> <td>   -0.186</td> <td>    0.274</td>\n",
       "</tr>\n",
       "<tr>\n",
       "  <th>ma.L4</th>  <td>   -0.0361</td> <td>    0.099</td> <td>   -0.363</td> <td> 0.717</td> <td>   -0.231</td> <td>    0.159</td>\n",
       "</tr>\n",
       "<tr>\n",
       "  <th>ma.L5</th>  <td>    0.0163</td> <td>    0.115</td> <td>    0.142</td> <td> 0.887</td> <td>   -0.208</td> <td>    0.241</td>\n",
       "</tr>\n",
       "<tr>\n",
       "  <th>sigma2</th> <td>    2.1358</td> <td>    0.186</td> <td>   11.452</td> <td> 0.000</td> <td>    1.770</td> <td>    2.501</td>\n",
       "</tr>\n",
       "</table>\n",
       "<table class=\"simpletable\">\n",
       "<tr>\n",
       "  <th>Ljung-Box (L1) (Q):</th>     <td>0.00</td> <th>  Jarque-Bera (JB):  </th> <td>246.23</td>\n",
       "</tr>\n",
       "<tr>\n",
       "  <th>Prob(Q):</th>                <td>0.97</td> <th>  Prob(JB):          </th>  <td>0.00</td> \n",
       "</tr>\n",
       "<tr>\n",
       "  <th>Heteroskedasticity (H):</th> <td>0.35</td> <th>  Skew:              </th>  <td>0.96</td> \n",
       "</tr>\n",
       "<tr>\n",
       "  <th>Prob(H) (two-sided):</th>    <td>0.00</td> <th>  Kurtosis:          </th>  <td>9.23</td> \n",
       "</tr>\n",
       "</table><br/><br/>Warnings:<br/>[1] Covariance matrix calculated using the outer product of gradients (complex-step)."
      ],
      "text/plain": [
       "<class 'statsmodels.iolib.summary.Summary'>\n",
       "\"\"\"\n",
       "                               SARIMAX Results                                \n",
       "==============================================================================\n",
       "Dep. Variable:               avg_temp   No. Observations:                  139\n",
       "Model:                 ARIMA(1, 0, 5)   Log Likelihood                -250.656\n",
       "Date:                Fri, 16 Dec 2022   AIC                            517.312\n",
       "Time:                        15:34:38   BIC                            540.788\n",
       "Sample:                    07-01-2022   HQIC                           526.852\n",
       "                         - 11-16-2022                                         \n",
       "Covariance Type:                  opg                                         \n",
       "==============================================================================\n",
       "                 coef    std err          z      P>|z|      [0.025      0.975]\n",
       "------------------------------------------------------------------------------\n",
       "const         28.0043      1.008     27.795      0.000      26.030      29.979\n",
       "ar.L1          0.8578      0.098      8.734      0.000       0.665       1.050\n",
       "ma.L1          0.0305      0.136      0.224      0.823      -0.236       0.297\n",
       "ma.L2         -0.0435      0.097     -0.450      0.653      -0.233       0.146\n",
       "ma.L3          0.0440      0.117      0.375      0.708      -0.186       0.274\n",
       "ma.L4         -0.0361      0.099     -0.363      0.717      -0.231       0.159\n",
       "ma.L5          0.0163      0.115      0.142      0.887      -0.208       0.241\n",
       "sigma2         2.1358      0.186     11.452      0.000       1.770       2.501\n",
       "===================================================================================\n",
       "Ljung-Box (L1) (Q):                   0.00   Jarque-Bera (JB):               246.23\n",
       "Prob(Q):                              0.97   Prob(JB):                         0.00\n",
       "Heteroskedasticity (H):               0.35   Skew:                             0.96\n",
       "Prob(H) (two-sided):                  0.00   Kurtosis:                         9.23\n",
       "===================================================================================\n",
       "\n",
       "Warnings:\n",
       "[1] Covariance matrix calculated using the outer product of gradients (complex-step).\n",
       "\"\"\""
      ]
     },
     "execution_count": 70,
     "metadata": {},
     "output_type": "execute_result"
    }
   ],
   "source": [
    "from statsmodels.tsa.arima.model import ARIMA\n",
    "model=ARIMA(train['avg_temp'],order=(1,0,5))\n",
    "model=model.fit()\n",
    "model.summary()\n"
   ]
  },
  {
   "cell_type": "code",
   "execution_count": 76,
   "metadata": {},
   "outputs": [
    {
     "name": "stdout",
     "output_type": "stream",
     "text": [
      "2022-11-17    25.667099\n",
      "2022-11-18    26.002996\n",
      "2022-11-19    26.271510\n",
      "2022-11-20    26.530415\n",
      "2022-11-21    26.734795\n",
      "2022-11-22    26.915358\n",
      "2022-11-23    27.070239\n",
      "2022-11-24    27.203091\n",
      "2022-11-25    27.317048\n",
      "2022-11-26    27.414797\n",
      "2022-11-27    27.498643\n",
      "2022-11-28    27.570563\n",
      "2022-11-29    27.632254\n",
      "2022-11-30    27.685171\n",
      "2022-12-01    27.730561\n",
      "2022-12-02    27.769496\n",
      "2022-12-03    27.802893\n",
      "2022-12-04    27.831540\n",
      "2022-12-05    27.856112\n",
      "2022-12-06    27.877190\n",
      "2022-12-07    27.895269\n",
      "2022-12-08    27.910777\n",
      "2022-12-09    27.924080\n",
      "2022-12-10    27.935490\n",
      "2022-12-11    27.945278\n",
      "2022-12-12    27.953673\n",
      "2022-12-13    27.960874\n",
      "2022-12-14    27.967051\n",
      "2022-12-15    27.972350\n",
      "2022-12-16    27.976895\n",
      "Freq: D, Name: ARIMA predictions, dtype: float64\n"
     ]
    },
    {
     "data": {
      "image/png": "[encoded data removed]",
      "text/plain": [
       "<Figure size 432x288 with 1 Axes>"
      ]
     },
     "metadata": {
      "needs_background": "light"
     },
     "output_type": "display_data"
    }
   ],
   "source": [
    "start=len(train)\n",
    "end=len(train)+len(test)-1\n",
    "#if the predicted values dont have date values as index, you will have to uncomment the following two commented lines to plot a graph\n",
    "# index_future_dates=pd.date_range(start='2022-11-17',end='2022-12-16')\n",
    "# pred=model.predict(start=start,end=end,typ='levels').rename('ARIMA predictions')\n",
    "# pred.index=index_future_dates\n",
    "pred.plot(legend=True)\n",
    "print(pred)\n",
    "# test['avg_temp'].plot(legend=True)"
   ]
  },
  {
   "cell_type": "code",
   "execution_count": 26,
   "metadata": {},
   "outputs": [],
   "source": [
    "# pred.plot(legend='ARIMA Predictions')\n",
    "# test['avg_temp'].plot(legend=True)"
   ]
  },
  {
   "cell_type": "code",
   "execution_count": 77,
   "metadata": {},
   "outputs": [
    {
     "data": {
      "text/plain": [
       "18.568000000000005"
      ]
     },
     "execution_count": 77,
     "metadata": {},
     "output_type": "execute_result"
    }
   ],
   "source": [
    "test['avg_temp'].mean()"
   ]
  },
  {
   "cell_type": "code",
   "execution_count": 78,
   "metadata": {},
   "outputs": [
    {
     "name": "stdout",
     "output_type": "stream",
     "text": [
      "9.735370984444288\n"
     ]
    }
   ],
   "source": [
    "from sklearn.metrics import mean_squared_error\n",
    "from math import sqrt\n",
    "rmse=sqrt(mean_squared_error(pred,test['avg_temp']))\n",
    "print(rmse)\n"
   ]
  },
  {
   "cell_type": "code",
   "execution_count": 79,
   "metadata": {},
   "outputs": [
    {
     "data": {
      "text/html": [
       "<div>\n",
       "<style scoped>\n",
       "    .dataframe tbody tr th:only-of-type {\n",
       "        vertical-align: middle;\n",
       "    }\n",
       "\n",
       "    .dataframe tbody tr th {\n",
       "        vertical-align: top;\n",
       "    }\n",
       "\n",
       "    .dataframe thead th {\n",
       "        text-align: right;\n",
       "    }\n",
       "</style>\n",
       "<table border=\"1\" class=\"dataframe\">\n",
       "  <thead>\n",
       "    <tr style=\"text-align: right;\">\n",
       "      <th></th>\n",
       "      <th>avg_temp</th>\n",
       "    </tr>\n",
       "    <tr>\n",
       "      <th>date</th>\n",
       "      <th></th>\n",
       "    </tr>\n",
       "  </thead>\n",
       "  <tbody>\n",
       "    <tr>\n",
       "      <th>2022-12-12</th>\n",
       "      <td>16.24</td>\n",
       "    </tr>\n",
       "    <tr>\n",
       "      <th>2022-12-13</th>\n",
       "      <td>15.63</td>\n",
       "    </tr>\n",
       "    <tr>\n",
       "      <th>2022-12-14</th>\n",
       "      <td>14.45</td>\n",
       "    </tr>\n",
       "    <tr>\n",
       "      <th>2022-12-15</th>\n",
       "      <td>13.31</td>\n",
       "    </tr>\n",
       "    <tr>\n",
       "      <th>2022-12-16</th>\n",
       "      <td>13.45</td>\n",
       "    </tr>\n",
       "  </tbody>\n",
       "</table>\n",
       "</div>"
      ],
      "text/plain": [
       "            avg_temp\n",
       "date                \n",
       "2022-12-12     16.24\n",
       "2022-12-13     15.63\n",
       "2022-12-14     14.45\n",
       "2022-12-15     13.31\n",
       "2022-12-16     13.45"
      ]
     },
     "execution_count": 79,
     "metadata": {},
     "output_type": "execute_result"
    }
   ],
   "source": [
    "model2=ARIMA(df['avg_temp'],order=(1,0,5))\n",
    "model2=model2.fit()\n",
    "df.tail()"
   ]
  },
  {
   "cell_type": "code",
   "execution_count": 82,
   "metadata": {},
   "outputs": [
    {
     "name": "stdout",
     "output_type": "stream",
     "text": [
      "2022-12-16    13.895408\n",
      "2022-12-17    14.259313\n",
      "2022-12-18    14.568380\n",
      "2022-12-19    14.781445\n",
      "Freq: D, Name: ARIMA Predictions, dtype: float64\n"
     ]
    }
   ],
   "source": [
    "index_future_dates=pd.date_range(start='2022-12-16',end='2022-12-19')\n",
    "# print(index_future_dates)\n",
    "pred=model2.predict(start=len(df),end=len(df)+3,typ='levels').rename('ARIMA Predictions')\n",
    "# print(pred)\n",
    "pred.index=index_future_dates\n",
    "print(pred)"
   ]
  },
  {
   "cell_type": "code",
   "execution_count": 58,
   "metadata": {},
   "outputs": [
    {
     "data": {
      "text/plain": [
       "<matplotlib.axes._subplots.AxesSubplot at 0x238689762b0>"
      ]
     },
     "execution_count": 58,
     "metadata": {},
     "output_type": "execute_result"
    },
    {
     "data": {
      "image/png": "[encoded data removed]",
      "text/plain": [
       "<Figure size 864x360 with 1 Axes>"
      ]
     },
     "metadata": {
      "needs_background": "light"
     },
     "output_type": "display_data"
    }
   ],
   "source": [
    "pred.plot(figsize=(12,5),legend=True)\n"
   ]
  },
  {
   "cell_type": "code",
   "execution_count": null,
   "metadata": {},
   "outputs": [],
   "source": []
  },
  {
   "cell_type": "code",
   "execution_count": null,
   "metadata": {},
   "outputs": [],
   "source": []
  }
 ],
 "metadata": {
  "kernelspec": {
   "display_name": "Python 3 (ipykernel)",
   "language": "python",
   "name": "python3"
  },
  "language_info": {
   "codemirror_mode": {
    "name": "ipython",
    "version": 3
   },
   "file_extension": ".py",
   "mimetype": "text/x-python",
   "name": "python",
   "nbconvert_exporter": "python",
   "pygments_lexer": "ipython3",
   "version": "3.9.7"
  },
  "vscode": {
   "interpreter": {
    "hash": "d308d994add39b2479968e8690e92fb1ac9b6dfee828e74a727bd43ce9878c24"
   }
  }
 },
 "nbformat": 4,
 "nbformat_minor": 2
}
