{
 "cells": [
  {
   "cell_type": "markdown",
   "id": "36e755fd",
   "metadata": {},
   "source": [
    "### Importing important libraries"
   ]
  },
  {
   "cell_type": "code",
   "execution_count": 1,
   "id": "6564832d",
   "metadata": {},
   "outputs": [],
   "source": [
    "import pandas as pd\n",
    "import numpy as np"
   ]
  },
  {
   "cell_type": "markdown",
   "id": "4a3dc011",
   "metadata": {},
   "source": [
    "### Fetching data"
   ]
  },
  {
   "cell_type": "code",
   "execution_count": 3,
   "id": "703ee772",
   "metadata": {},
   "outputs": [],
   "source": [
    "data = pd.read_csv(\"data.csv\")"
   ]
  },
  {
   "cell_type": "markdown",
   "id": "a40f1f4b",
   "metadata": {},
   "source": [
    "### Viewing raw data"
   ]
  },
  {
   "cell_type": "code",
   "execution_count": 4,
   "id": "9e89a66c",
   "metadata": {},
   "outputs": [
    {
     "data": {
      "text/html": [
       "<div>\n",
       "<style scoped>\n",
       "    .dataframe tbody tr th:only-of-type {\n",
       "        vertical-align: middle;\n",
       "    }\n",
       "\n",
       "    .dataframe tbody tr th {\n",
       "        vertical-align: top;\n",
       "    }\n",
       "\n",
       "    .dataframe thead th {\n",
       "        text-align: right;\n",
       "    }\n",
       "</style>\n",
       "<table border=\"1\" class=\"dataframe\">\n",
       "  <thead>\n",
       "    <tr style=\"text-align: right;\">\n",
       "      <th></th>\n",
       "      <th>-NEvVDmqDFf6xyzEo2xs</th>\n",
       "      <th>21/10/2022 22:35:3 262  NAN  NAN -147.93 132120.53 -1533.04 91.44 33.0</th>\n",
       "    </tr>\n",
       "  </thead>\n",
       "  <tbody>\n",
       "    <tr>\n",
       "      <th>0</th>\n",
       "      <td>-NEvVHsZEvuKxWclFdDG</td>\n",
       "      <td>21/10/2022 22:35:16 262  NAN  NAN -147.93 1321...</td>\n",
       "    </tr>\n",
       "    <tr>\n",
       "      <th>1</th>\n",
       "      <td>-NEvVLLc38WlQ81JgVAI</td>\n",
       "      <td>21/10/2022 22:35:34 263  NAN  NAN -147.93 1321...</td>\n",
       "    </tr>\n",
       "    <tr>\n",
       "      <th>2</th>\n",
       "      <td>-NEvVP0b8QOKb1yV70m0</td>\n",
       "      <td>21/10/2022 22:35:46 288  NAN  NAN -147.93 1321...</td>\n",
       "    </tr>\n",
       "    <tr>\n",
       "      <th>3</th>\n",
       "      <td>-NEvVT-mpoyBardw1Mtc</td>\n",
       "      <td>21/10/2022 22:36:4 267  NAN  NAN -147.93 13212...</td>\n",
       "    </tr>\n",
       "    <tr>\n",
       "      <th>4</th>\n",
       "      <td>-NEvVWj5aQ-_tYBM6UYQ</td>\n",
       "      <td>21/10/2022 22:36:23 257  NAN  NAN -147.93 1321...</td>\n",
       "    </tr>\n",
       "  </tbody>\n",
       "</table>\n",
       "</div>"
      ],
      "text/plain": [
       "   -NEvVDmqDFf6xyzEo2xs  \\\n",
       "0  -NEvVHsZEvuKxWclFdDG   \n",
       "1  -NEvVLLc38WlQ81JgVAI   \n",
       "2  -NEvVP0b8QOKb1yV70m0   \n",
       "3  -NEvVT-mpoyBardw1Mtc   \n",
       "4  -NEvVWj5aQ-_tYBM6UYQ   \n",
       "\n",
       "  21/10/2022 22:35:3 262  NAN  NAN -147.93 132120.53 -1533.04 91.44 33.0  \n",
       "0  21/10/2022 22:35:16 262  NAN  NAN -147.93 1321...                      \n",
       "1  21/10/2022 22:35:34 263  NAN  NAN -147.93 1321...                      \n",
       "2  21/10/2022 22:35:46 288  NAN  NAN -147.93 1321...                      \n",
       "3  21/10/2022 22:36:4 267  NAN  NAN -147.93 13212...                      \n",
       "4  21/10/2022 22:36:23 257  NAN  NAN -147.93 1321...                      "
      ]
     },
     "execution_count": 4,
     "metadata": {},
     "output_type": "execute_result"
    }
   ],
   "source": [
    "data.head()"
   ]
  },
  {
   "cell_type": "markdown",
   "id": "0904b187",
   "metadata": {},
   "source": [
    "### Removing first column"
   ]
  },
  {
   "cell_type": "code",
   "execution_count": 17,
   "id": "aff67b17",
   "metadata": {},
   "outputs": [],
   "source": [
    "data = data.iloc[:,1:]"
   ]
  },
  {
   "cell_type": "markdown",
   "id": "53122c72",
   "metadata": {},
   "source": [
    "### Changing column name to Date"
   ]
  },
  {
   "cell_type": "code",
   "execution_count": 53,
   "id": "05281d7e",
   "metadata": {},
   "outputs": [],
   "source": [
    "data.columns = ['Date']"
   ]
  },
  {
   "cell_type": "markdown",
   "id": "f50d5eb7",
   "metadata": {},
   "source": [
    "### Splitting data"
   ]
  },
  {
   "cell_type": "code",
   "execution_count": 59,
   "id": "4306156e",
   "metadata": {},
   "outputs": [],
   "source": [
    "data = data['Date'].str.split(\" \", expand=True)"
   ]
  },
  {
   "cell_type": "markdown",
   "id": "210a5cb7",
   "metadata": {},
   "source": [
    "### Dropping empty columns"
   ]
  },
  {
   "cell_type": "code",
   "execution_count": 61,
   "id": "35e63683",
   "metadata": {},
   "outputs": [],
   "source": [
    "data.drop(data.columns[[3,5]], axis=1, inplace=True)"
   ]
  },
  {
   "cell_type": "markdown",
   "id": "5f048074",
   "metadata": {},
   "source": [
    "### Changing column names"
   ]
  },
  {
   "cell_type": "code",
   "execution_count": 63,
   "id": "98e8abb1",
   "metadata": {},
   "outputs": [],
   "source": [
    "data.columns = [['Date','Time','AQI','Temp_in_C','Humidity','Temp_in_C','Baro_Pressure','Altitude','Temp_in_F','Temp_in_C']]"
   ]
  },
  {
   "cell_type": "markdown",
   "id": "fdd1e6d1",
   "metadata": {},
   "source": [
    "### Viewing updated dataset"
   ]
  },
  {
   "cell_type": "code",
   "execution_count": 64,
   "id": "848b4a27",
   "metadata": {},
   "outputs": [
    {
     "data": {
      "text/html": [
       "<div>\n",
       "<style scoped>\n",
       "    .dataframe tbody tr th:only-of-type {\n",
       "        vertical-align: middle;\n",
       "    }\n",
       "\n",
       "    .dataframe tbody tr th {\n",
       "        vertical-align: top;\n",
       "    }\n",
       "\n",
       "    .dataframe thead tr th {\n",
       "        text-align: left;\n",
       "    }\n",
       "</style>\n",
       "<table border=\"1\" class=\"dataframe\">\n",
       "  <thead>\n",
       "    <tr>\n",
       "      <th></th>\n",
       "      <th>Date</th>\n",
       "      <th>Time</th>\n",
       "      <th>AQI</th>\n",
       "      <th>Temp_in_C</th>\n",
       "      <th>Humidity</th>\n",
       "      <th>Temp_in_C</th>\n",
       "      <th>Baro_Pressure</th>\n",
       "      <th>Altitude</th>\n",
       "      <th>Temp_in_F</th>\n",
       "      <th>Temp_in_C</th>\n",
       "    </tr>\n",
       "  </thead>\n",
       "  <tbody>\n",
       "    <tr>\n",
       "      <th>0</th>\n",
       "      <td>21/10/2022</td>\n",
       "      <td>22:35:16</td>\n",
       "      <td>262</td>\n",
       "      <td>NAN</td>\n",
       "      <td>NAN</td>\n",
       "      <td>-147.93</td>\n",
       "      <td>132120.53</td>\n",
       "      <td>-1533.04</td>\n",
       "      <td>91.44</td>\n",
       "      <td>33.</td>\n",
       "    </tr>\n",
       "    <tr>\n",
       "      <th>0</th>\n",
       "      <td>21/10/2022</td>\n",
       "      <td>22:35:34</td>\n",
       "      <td>263</td>\n",
       "      <td>NAN</td>\n",
       "      <td>NAN</td>\n",
       "      <td>-147.93</td>\n",
       "      <td>132120.53</td>\n",
       "      <td>-1533.04</td>\n",
       "      <td>91.29</td>\n",
       "      <td>32.</td>\n",
       "    </tr>\n",
       "    <tr>\n",
       "      <th>2</th>\n",
       "      <td>21/10/2022</td>\n",
       "      <td>22:35:46</td>\n",
       "      <td>288</td>\n",
       "      <td>NAN</td>\n",
       "      <td>NAN</td>\n",
       "      <td>-147.93</td>\n",
       "      <td>132120.53</td>\n",
       "      <td>-1533.04</td>\n",
       "      <td>91.29</td>\n",
       "      <td>32.</td>\n",
       "    </tr>\n",
       "    <tr>\n",
       "      <th>3</th>\n",
       "      <td>21/10/2022</td>\n",
       "      <td>22:36:4</td>\n",
       "      <td>267</td>\n",
       "      <td>NAN</td>\n",
       "      <td>NAN</td>\n",
       "      <td>-147.93</td>\n",
       "      <td>132120.53</td>\n",
       "      <td>-1533.04</td>\n",
       "      <td>91.44</td>\n",
       "      <td>33.0</td>\n",
       "    </tr>\n",
       "    <tr>\n",
       "      <th>4</th>\n",
       "      <td>21/10/2022</td>\n",
       "      <td>22:36:23</td>\n",
       "      <td>257</td>\n",
       "      <td>NAN</td>\n",
       "      <td>NAN</td>\n",
       "      <td>-147.93</td>\n",
       "      <td>132120.53</td>\n",
       "      <td>-1533.04</td>\n",
       "      <td>91.44</td>\n",
       "      <td>33.</td>\n",
       "    </tr>\n",
       "    <tr>\n",
       "      <th>5</th>\n",
       "      <td>21/10/2022</td>\n",
       "      <td>22:36:35</td>\n",
       "      <td>264</td>\n",
       "      <td>NAN</td>\n",
       "      <td>NAN</td>\n",
       "      <td>-147.93</td>\n",
       "      <td>132120.53</td>\n",
       "      <td>-1533.04</td>\n",
       "      <td>91.44</td>\n",
       "      <td>33.</td>\n",
       "    </tr>\n",
       "    <tr>\n",
       "      <th>6</th>\n",
       "      <td>21/10/2022</td>\n",
       "      <td>22:36:53</td>\n",
       "      <td>280</td>\n",
       "      <td>NAN</td>\n",
       "      <td>NAN</td>\n",
       "      <td>-147.93</td>\n",
       "      <td>132120.53</td>\n",
       "      <td>-1533.04</td>\n",
       "      <td>91.44</td>\n",
       "      <td>33.</td>\n",
       "    </tr>\n",
       "    <tr>\n",
       "      <th>7</th>\n",
       "      <td>21/10/2022</td>\n",
       "      <td>22:37:5</td>\n",
       "      <td>269</td>\n",
       "      <td>NAN</td>\n",
       "      <td>NAN</td>\n",
       "      <td>-147.93</td>\n",
       "      <td>132120.53</td>\n",
       "      <td>-1533.04</td>\n",
       "      <td>91.29</td>\n",
       "      <td>32.9</td>\n",
       "    </tr>\n",
       "  </tbody>\n",
       "</table>\n",
       "</div>"
      ],
      "text/plain": [
       "         Date      Time  AQI Temp_in_C Humidity Temp_in_C Baro_Pressure  \\\n",
       "0  21/10/2022  22:35:16  262       NAN      NAN   -147.93     132120.53   \n",
       "0  21/10/2022  22:35:34  263       NAN      NAN   -147.93     132120.53   \n",
       "2  21/10/2022  22:35:46  288       NAN      NAN   -147.93     132120.53   \n",
       "3  21/10/2022   22:36:4  267       NAN      NAN   -147.93     132120.53   \n",
       "4  21/10/2022  22:36:23  257       NAN      NAN   -147.93     132120.53   \n",
       "5  21/10/2022  22:36:35  264       NAN      NAN   -147.93     132120.53   \n",
       "6  21/10/2022  22:36:53  280       NAN      NAN   -147.93     132120.53   \n",
       "7  21/10/2022   22:37:5  269       NAN      NAN   -147.93     132120.53   \n",
       "\n",
       "   Altitude Temp_in_F Temp_in_C  \n",
       "0  -1533.04     91.44       33.  \n",
       "0  -1533.04     91.29       32.  \n",
       "2  -1533.04     91.29       32.  \n",
       "3  -1533.04     91.44      33.0  \n",
       "4  -1533.04     91.44       33.  \n",
       "5  -1533.04     91.44       33.  \n",
       "6  -1533.04     91.44       33.  \n",
       "7  -1533.04     91.29      32.9  "
      ]
     },
     "execution_count": 64,
     "metadata": {},
     "output_type": "execute_result"
    }
   ],
   "source": [
    "data"
   ]
  },
  {
   "cell_type": "markdown",
   "id": "24a9a0d3",
   "metadata": {},
   "source": [
    "### Saving the cleaned dataframe "
   ]
  },
  {
   "cell_type": "code",
   "execution_count": 65,
   "id": "5ae9fc34",
   "metadata": {},
   "outputs": [],
   "source": [
    "data.to_csv('Newfile.csv',index=True, header=True)"
   ]
  },
  {
   "cell_type": "code",
   "execution_count": null,
   "id": "a163cb58",
   "metadata": {},
   "outputs": [],
   "source": []
  }
 ],
 "metadata": {
  "kernelspec": {
   "display_name": "Python 3 (ipykernel)",
   "language": "python",
   "name": "python3"
  },
  "language_info": {
   "codemirror_mode": {
    "name": "ipython",
    "version": 3
   },
   "file_extension": ".py",
   "mimetype": "text/x-python",
   "name": "python",
   "nbconvert_exporter": "python",
   "pygments_lexer": "ipython3",
   "version": "3.9.12"
  }
 },
 "nbformat": 4,
 "nbformat_minor": 5
}
