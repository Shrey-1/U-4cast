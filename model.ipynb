{
 "cells": [
  {
   "cell_type": "code",
   "execution_count": 1,
   "id": "24626f1b",
   "metadata": {},
   "outputs": [],
   "source": [
    "import pandas as pd\n",
    "from neuralprophet import NeuralProphet\n",
    "from matplotlib import pyplot as plt\n",
    "import warnings\n",
    "warnings.filterwarnings('ignore')\n",
    "# import plotly.express as plt"
   ]
  },
  {
   "cell_type": "code",
   "execution_count": 2,
   "id": "786ae82b",
   "metadata": {},
   "outputs": [
    {
     "data": {
      "text/html": [
       "<div>\n",
       "<style scoped>\n",
       "    .dataframe tbody tr th:only-of-type {\n",
       "        vertical-align: middle;\n",
       "    }\n",
       "\n",
       "    .dataframe tbody tr th {\n",
       "        vertical-align: top;\n",
       "    }\n",
       "\n",
       "    .dataframe thead th {\n",
       "        text-align: right;\n",
       "    }\n",
       "</style>\n",
       "<table border=\"1\" class=\"dataframe\">\n",
       "  <thead>\n",
       "    <tr style=\"text-align: right;\">\n",
       "      <th></th>\n",
       "      <th>date</th>\n",
       "      <th>time</th>\n",
       "      <th>min_temp</th>\n",
       "      <th>max_temp</th>\n",
       "      <th>avg_temp</th>\n",
       "      <th>humidity</th>\n",
       "      <th>AQI</th>\n",
       "      <th>baro_pressure</th>\n",
       "    </tr>\n",
       "  </thead>\n",
       "  <tbody>\n",
       "    <tr>\n",
       "      <th>3222</th>\n",
       "      <td>2022-12-20</td>\n",
       "      <td>06:00:00</td>\n",
       "      <td>8.3</td>\n",
       "      <td>12.2</td>\n",
       "      <td>10.25</td>\n",
       "      <td>39.16</td>\n",
       "      <td>267</td>\n",
       "      <td>1014.0</td>\n",
       "    </tr>\n",
       "    <tr>\n",
       "      <th>3223</th>\n",
       "      <td>2022-12-20</td>\n",
       "      <td>07:00:00</td>\n",
       "      <td>8.4</td>\n",
       "      <td>12.3</td>\n",
       "      <td>10.35</td>\n",
       "      <td>35.78</td>\n",
       "      <td>268</td>\n",
       "      <td>1014.0</td>\n",
       "    </tr>\n",
       "    <tr>\n",
       "      <th>3224</th>\n",
       "      <td>2022-12-20</td>\n",
       "      <td>08:00:00</td>\n",
       "      <td>8.2</td>\n",
       "      <td>12.0</td>\n",
       "      <td>10.10</td>\n",
       "      <td>33.34</td>\n",
       "      <td>274</td>\n",
       "      <td>1015.0</td>\n",
       "    </tr>\n",
       "    <tr>\n",
       "      <th>3225</th>\n",
       "      <td>2022-12-20</td>\n",
       "      <td>09:00:00</td>\n",
       "      <td>10.6</td>\n",
       "      <td>16.6</td>\n",
       "      <td>13.60</td>\n",
       "      <td>31.58</td>\n",
       "      <td>268</td>\n",
       "      <td>1016.0</td>\n",
       "    </tr>\n",
       "    <tr>\n",
       "      <th>3226</th>\n",
       "      <td>2022-12-20</td>\n",
       "      <td>10:00:00</td>\n",
       "      <td>14.2</td>\n",
       "      <td>20.2</td>\n",
       "      <td>17.20</td>\n",
       "      <td>25.70</td>\n",
       "      <td>265</td>\n",
       "      <td>1016.0</td>\n",
       "    </tr>\n",
       "  </tbody>\n",
       "</table>\n",
       "</div>"
      ],
      "text/plain": [
       "            date      time  min_temp  max_temp  avg_temp  humidity  AQI  \\\n",
       "3222  2022-12-20  06:00:00       8.3      12.2     10.25     39.16  267   \n",
       "3223  2022-12-20  07:00:00       8.4      12.3     10.35     35.78  268   \n",
       "3224  2022-12-20  08:00:00       8.2      12.0     10.10     33.34  274   \n",
       "3225  2022-12-20  09:00:00      10.6      16.6     13.60     31.58  268   \n",
       "3226  2022-12-20  10:00:00      14.2      20.2     17.20     25.70  265   \n",
       "\n",
       "      baro_pressure  \n",
       "3222         1014.0  \n",
       "3223         1014.0  \n",
       "3224         1015.0  \n",
       "3225         1016.0  \n",
       "3226         1016.0  "
      ]
     },
     "execution_count": 2,
     "metadata": {},
     "output_type": "execute_result"
    }
   ],
   "source": [
    "df = pd.read_csv('data/data.csv')\n",
    "df.tail()"
   ]
  },
  {
   "cell_type": "code",
   "execution_count": 3,
   "id": "e5ece802",
   "metadata": {},
   "outputs": [
    {
     "data": {
      "text/plain": [
       "array(['2022-08-08', '2022-08-09', '2022-08-10', '2022-08-11',\n",
       "       '2022-08-12', '2022-08-13', '2022-08-14', '2022-08-15',\n",
       "       '2022-08-16', '2022-08-17', '2022-08-18', '2022-08-19',\n",
       "       '2022-08-20', '2022-08-21', '2022-08-22', '2022-08-23',\n",
       "       '2022-08-24', '2022-08-25', '2022-08-26', '2022-08-27',\n",
       "       '2022-08-28', '2022-08-29', '2022-08-30', '2022-08-31',\n",
       "       '2022-09-01', '2022-09-02', '2022-09-03', '2022-09-04',\n",
       "       '2022-09-05', '2022-09-06', '2022-09-07', '2022-09-08',\n",
       "       '2022-09-09', '2022-09-10', '2022-09-11', '2022-09-12',\n",
       "       '2022-09-13', '2022-09-14', '2022-09-15', '2022-09-16',\n",
       "       '2022-09-17', '2022-09-18', '2022-09-19', '2022-09-20',\n",
       "       '2022-09-21', '2022-09-22', '2022-09-23', '2022-09-24',\n",
       "       '2022-09-25', '2022-09-26', '2022-09-27', '2022-09-28',\n",
       "       '2022-09-29', '2022-09-30', '2022-10-01', '2022-10-02',\n",
       "       '2022-10-03', '2022-10-04', '2022-10-05', '2022-10-06',\n",
       "       '2022-10-07', '2022-10-08', '2022-10-09', '2022-10-10',\n",
       "       '2022-10-11', '2022-10-12', '2022-10-13', '2022-10-14',\n",
       "       '2022-10-15', '2022-10-16', '2022-10-17', '2022-10-18',\n",
       "       '2022-10-19', '2022-10-20', '2022-10-21', '2022-10-22',\n",
       "       '2022-10-23', '2022-10-24', '2022-10-25', '2022-10-26',\n",
       "       '2022-10-27', '2022-10-28', '2022-10-29', '2022-10-30',\n",
       "       '2022-10-31', '2022-11-01', '2022-11-02', '2022-11-03',\n",
       "       '2022-11-04', '2022-11-05', '2022-11-06', '2022-11-07',\n",
       "       '2022-11-08', '2022-11-09', '2022-11-10', '2022-11-11',\n",
       "       '2022-11-12', '2022-11-13', '2022-11-14', '2022-11-15',\n",
       "       '2022-11-16', '2022-11-17', '2022-11-18', '2022-11-19',\n",
       "       '2022-11-20', '2022-11-21', '2022-11-22', '2022-11-23',\n",
       "       '2022-11-24', '2022-11-25', '2022-11-26', '2022-11-27',\n",
       "       '2022-11-28', '2022-11-29', '2022-11-30', '2022-12-01',\n",
       "       '2022-12-02', '2022-12-03', '2022-12-04', '2022-12-05',\n",
       "       '2022-12-06', '2022-12-07', '2022-12-08', '2022-12-09',\n",
       "       '2022-12-10', '2022-12-11', '2022-12-12', '2022-12-13',\n",
       "       '2022-12-14', '2022-12-15', '2022-12-16', '2022-12-17',\n",
       "       '2022-12-18', '2022-12-19', '2022-12-20'], dtype=object)"
      ]
     },
     "execution_count": 3,
     "metadata": {},
     "output_type": "execute_result"
    }
   ],
   "source": [
    "df.date.unique()"
   ]
  },
  {
   "cell_type": "code",
   "execution_count": 4,
   "id": "0eb0f45b",
   "metadata": {},
   "outputs": [
    {
     "data": {
      "text/plain": [
       "Index(['date', 'time', 'min_temp', 'max_temp', 'avg_temp', 'humidity', 'AQI',\n",
       "       'baro_pressure'],\n",
       "      dtype='object')"
      ]
     },
     "execution_count": 4,
     "metadata": {},
     "output_type": "execute_result"
    }
   ],
   "source": [
    "df.columns"
   ]
  },
  {
   "cell_type": "code",
   "execution_count": 5,
   "id": "32531e70",
   "metadata": {},
   "outputs": [
    {
     "data": {
      "text/plain": [
       "date              object\n",
       "time              object\n",
       "min_temp         float64\n",
       "max_temp         float64\n",
       "avg_temp         float64\n",
       "humidity         float64\n",
       "AQI                int64\n",
       "baro_pressure    float64\n",
       "dtype: object"
      ]
     },
     "execution_count": 5,
     "metadata": {},
     "output_type": "execute_result"
    }
   ],
   "source": [
    "df.dtypes"
   ]
  },
  {
   "cell_type": "code",
   "execution_count": 6,
   "id": "6f886ae4",
   "metadata": {},
   "outputs": [],
   "source": [
    "df.drop_duplicates(subset=\"date\", keep=\"last\", inplace=True)"
   ]
  },
  {
   "cell_type": "code",
   "execution_count": 7,
   "id": "48acd588",
   "metadata": {},
   "outputs": [
    {
     "data": {
      "text/html": [
       "<div>\n",
       "<style scoped>\n",
       "    .dataframe tbody tr th:only-of-type {\n",
       "        vertical-align: middle;\n",
       "    }\n",
       "\n",
       "    .dataframe tbody tr th {\n",
       "        vertical-align: top;\n",
       "    }\n",
       "\n",
       "    .dataframe thead th {\n",
       "        text-align: right;\n",
       "    }\n",
       "</style>\n",
       "<table border=\"1\" class=\"dataframe\">\n",
       "  <thead>\n",
       "    <tr style=\"text-align: right;\">\n",
       "      <th></th>\n",
       "      <th>date</th>\n",
       "      <th>time</th>\n",
       "      <th>min_temp</th>\n",
       "      <th>max_temp</th>\n",
       "      <th>avg_temp</th>\n",
       "      <th>humidity</th>\n",
       "      <th>AQI</th>\n",
       "      <th>baro_pressure</th>\n",
       "    </tr>\n",
       "  </thead>\n",
       "  <tbody>\n",
       "    <tr>\n",
       "      <th>3143</th>\n",
       "      <td>2022-12-16</td>\n",
       "      <td>23:00:00</td>\n",
       "      <td>9.7</td>\n",
       "      <td>15.7</td>\n",
       "      <td>12.70</td>\n",
       "      <td>94.76</td>\n",
       "      <td>273</td>\n",
       "      <td>1014.0</td>\n",
       "    </tr>\n",
       "    <tr>\n",
       "      <th>3167</th>\n",
       "      <td>2022-12-17</td>\n",
       "      <td>23:00:00</td>\n",
       "      <td>9.4</td>\n",
       "      <td>14.1</td>\n",
       "      <td>11.75</td>\n",
       "      <td>44.80</td>\n",
       "      <td>266</td>\n",
       "      <td>1017.0</td>\n",
       "    </tr>\n",
       "    <tr>\n",
       "      <th>3191</th>\n",
       "      <td>2022-12-18</td>\n",
       "      <td>23:00:00</td>\n",
       "      <td>9.3</td>\n",
       "      <td>13.6</td>\n",
       "      <td>11.45</td>\n",
       "      <td>50.35</td>\n",
       "      <td>269</td>\n",
       "      <td>1016.0</td>\n",
       "    </tr>\n",
       "    <tr>\n",
       "      <th>3215</th>\n",
       "      <td>2022-12-19</td>\n",
       "      <td>23:00:00</td>\n",
       "      <td>9.0</td>\n",
       "      <td>13.1</td>\n",
       "      <td>11.05</td>\n",
       "      <td>52.13</td>\n",
       "      <td>266</td>\n",
       "      <td>1016.0</td>\n",
       "    </tr>\n",
       "    <tr>\n",
       "      <th>3226</th>\n",
       "      <td>2022-12-20</td>\n",
       "      <td>10:00:00</td>\n",
       "      <td>14.2</td>\n",
       "      <td>20.2</td>\n",
       "      <td>17.20</td>\n",
       "      <td>25.70</td>\n",
       "      <td>265</td>\n",
       "      <td>1016.0</td>\n",
       "    </tr>\n",
       "  </tbody>\n",
       "</table>\n",
       "</div>"
      ],
      "text/plain": [
       "            date      time  min_temp  max_temp  avg_temp  humidity  AQI  \\\n",
       "3143  2022-12-16  23:00:00       9.7      15.7     12.70     94.76  273   \n",
       "3167  2022-12-17  23:00:00       9.4      14.1     11.75     44.80  266   \n",
       "3191  2022-12-18  23:00:00       9.3      13.6     11.45     50.35  269   \n",
       "3215  2022-12-19  23:00:00       9.0      13.1     11.05     52.13  266   \n",
       "3226  2022-12-20  10:00:00      14.2      20.2     17.20     25.70  265   \n",
       "\n",
       "      baro_pressure  \n",
       "3143         1014.0  \n",
       "3167         1017.0  \n",
       "3191         1016.0  \n",
       "3215         1016.0  \n",
       "3226         1016.0  "
      ]
     },
     "execution_count": 7,
     "metadata": {},
     "output_type": "execute_result"
    }
   ],
   "source": [
    "df.tail()"
   ]
  },
  {
   "cell_type": "code",
   "execution_count": 8,
   "id": "4d588f0f",
   "metadata": {},
   "outputs": [
    {
     "data": {
      "text/html": [
       "<div>\n",
       "<style scoped>\n",
       "    .dataframe tbody tr th:only-of-type {\n",
       "        vertical-align: middle;\n",
       "    }\n",
       "\n",
       "    .dataframe tbody tr th {\n",
       "        vertical-align: top;\n",
       "    }\n",
       "\n",
       "    .dataframe thead th {\n",
       "        text-align: right;\n",
       "    }\n",
       "</style>\n",
       "<table border=\"1\" class=\"dataframe\">\n",
       "  <thead>\n",
       "    <tr style=\"text-align: right;\">\n",
       "      <th></th>\n",
       "      <th>date</th>\n",
       "      <th>time</th>\n",
       "      <th>min_temp</th>\n",
       "      <th>max_temp</th>\n",
       "      <th>avg_temp</th>\n",
       "      <th>humidity</th>\n",
       "      <th>AQI</th>\n",
       "      <th>baro_pressure</th>\n",
       "    </tr>\n",
       "  </thead>\n",
       "  <tbody>\n",
       "    <tr>\n",
       "      <th>3143</th>\n",
       "      <td>2022-12-16</td>\n",
       "      <td>23:00:00</td>\n",
       "      <td>9.7</td>\n",
       "      <td>15.7</td>\n",
       "      <td>12.70</td>\n",
       "      <td>94.76</td>\n",
       "      <td>273</td>\n",
       "      <td>1014.0</td>\n",
       "    </tr>\n",
       "    <tr>\n",
       "      <th>3167</th>\n",
       "      <td>2022-12-17</td>\n",
       "      <td>23:00:00</td>\n",
       "      <td>9.4</td>\n",
       "      <td>14.1</td>\n",
       "      <td>11.75</td>\n",
       "      <td>44.80</td>\n",
       "      <td>266</td>\n",
       "      <td>1017.0</td>\n",
       "    </tr>\n",
       "    <tr>\n",
       "      <th>3191</th>\n",
       "      <td>2022-12-18</td>\n",
       "      <td>23:00:00</td>\n",
       "      <td>9.3</td>\n",
       "      <td>13.6</td>\n",
       "      <td>11.45</td>\n",
       "      <td>50.35</td>\n",
       "      <td>269</td>\n",
       "      <td>1016.0</td>\n",
       "    </tr>\n",
       "    <tr>\n",
       "      <th>3215</th>\n",
       "      <td>2022-12-19</td>\n",
       "      <td>23:00:00</td>\n",
       "      <td>9.0</td>\n",
       "      <td>13.1</td>\n",
       "      <td>11.05</td>\n",
       "      <td>52.13</td>\n",
       "      <td>266</td>\n",
       "      <td>1016.0</td>\n",
       "    </tr>\n",
       "    <tr>\n",
       "      <th>3226</th>\n",
       "      <td>2022-12-20</td>\n",
       "      <td>10:00:00</td>\n",
       "      <td>14.2</td>\n",
       "      <td>20.2</td>\n",
       "      <td>17.20</td>\n",
       "      <td>25.70</td>\n",
       "      <td>265</td>\n",
       "      <td>1016.0</td>\n",
       "    </tr>\n",
       "  </tbody>\n",
       "</table>\n",
       "</div>"
      ],
      "text/plain": [
       "           date      time  min_temp  max_temp  avg_temp  humidity  AQI  \\\n",
       "3143 2022-12-16  23:00:00       9.7      15.7     12.70     94.76  273   \n",
       "3167 2022-12-17  23:00:00       9.4      14.1     11.75     44.80  266   \n",
       "3191 2022-12-18  23:00:00       9.3      13.6     11.45     50.35  269   \n",
       "3215 2022-12-19  23:00:00       9.0      13.1     11.05     52.13  266   \n",
       "3226 2022-12-20  10:00:00      14.2      20.2     17.20     25.70  265   \n",
       "\n",
       "      baro_pressure  \n",
       "3143         1014.0  \n",
       "3167         1017.0  \n",
       "3191         1016.0  \n",
       "3215         1016.0  \n",
       "3226         1016.0  "
      ]
     },
     "execution_count": 8,
     "metadata": {},
     "output_type": "execute_result"
    }
   ],
   "source": [
    "df ['date'] = pd.to_datetime(df['date'])\n",
    "df.tail()"
   ]
  },
  {
   "cell_type": "code",
   "execution_count": 9,
   "id": "e791efa4",
   "metadata": {},
   "outputs": [
    {
     "data": {
      "text/plain": [
       "date             datetime64[ns]\n",
       "time                     object\n",
       "min_temp                float64\n",
       "max_temp                float64\n",
       "avg_temp                float64\n",
       "humidity                float64\n",
       "AQI                       int64\n",
       "baro_pressure           float64\n",
       "dtype: object"
      ]
     },
     "execution_count": 9,
     "metadata": {},
     "output_type": "execute_result"
    }
   ],
   "source": [
    "df.dtypes"
   ]
  },
  {
   "cell_type": "code",
   "execution_count": 10,
   "id": "c727560a",
   "metadata": {},
   "outputs": [
    {
     "data": {
      "image/png": "[encoded data removed]",
      "text/plain": [
       "<Figure size 432x288 with 1 Axes>"
      ]
     },
     "metadata": {
      "needs_background": "light"
     },
     "output_type": "display_data"
    }
   ],
   "source": [
    "plt.plot(df['date'], df['avg_temp'])\n",
    "plt.show()"
   ]
  },
  {
   "cell_type": "code",
   "execution_count": 11,
   "id": "de1a5c4e",
   "metadata": {},
   "outputs": [
    {
     "data": {
      "text/html": [
       "<div>\n",
       "<style scoped>\n",
       "    .dataframe tbody tr th:only-of-type {\n",
       "        vertical-align: middle;\n",
       "    }\n",
       "\n",
       "    .dataframe tbody tr th {\n",
       "        vertical-align: top;\n",
       "    }\n",
       "\n",
       "    .dataframe thead th {\n",
       "        text-align: right;\n",
       "    }\n",
       "</style>\n",
       "<table border=\"1\" class=\"dataframe\">\n",
       "  <thead>\n",
       "    <tr style=\"text-align: right;\">\n",
       "      <th></th>\n",
       "      <th>ds</th>\n",
       "      <th>y</th>\n",
       "    </tr>\n",
       "  </thead>\n",
       "  <tbody>\n",
       "    <tr>\n",
       "      <th>3143</th>\n",
       "      <td>2022-12-16</td>\n",
       "      <td>12.70</td>\n",
       "    </tr>\n",
       "    <tr>\n",
       "      <th>3167</th>\n",
       "      <td>2022-12-17</td>\n",
       "      <td>11.75</td>\n",
       "    </tr>\n",
       "    <tr>\n",
       "      <th>3191</th>\n",
       "      <td>2022-12-18</td>\n",
       "      <td>11.45</td>\n",
       "    </tr>\n",
       "    <tr>\n",
       "      <th>3215</th>\n",
       "      <td>2022-12-19</td>\n",
       "      <td>11.05</td>\n",
       "    </tr>\n",
       "    <tr>\n",
       "      <th>3226</th>\n",
       "      <td>2022-12-20</td>\n",
       "      <td>17.20</td>\n",
       "    </tr>\n",
       "  </tbody>\n",
       "</table>\n",
       "</div>"
      ],
      "text/plain": [
       "             ds      y\n",
       "3143 2022-12-16  12.70\n",
       "3167 2022-12-17  11.75\n",
       "3191 2022-12-18  11.45\n",
       "3215 2022-12-19  11.05\n",
       "3226 2022-12-20  17.20"
      ]
     },
     "execution_count": 11,
     "metadata": {},
     "output_type": "execute_result"
    }
   ],
   "source": [
    "new_column = df[['date', 'avg_temp']] \n",
    "new_column.dropna(inplace=True)\n",
    "new_column.columns = ['ds', 'y'] \n",
    "new_column.tail()"
   ]
  },
  {
   "cell_type": "code",
   "execution_count": 12,
   "id": "2be070f8",
   "metadata": {},
   "outputs": [
    {
     "name": "stderr",
     "output_type": "stream",
     "text": [
      "INFO - (NP.df_utils._infer_frequency) - Major frequency D corresponds to 99.259% of the data.\n",
      "INFO - (NP.df_utils._infer_frequency) - Defined frequency is equal to major frequency - D\n",
      "INFO - (NP.config.init_data_params) - Setting normalization to global as only one dataframe provided for training.\n",
      "INFO - (NP.utils.set_auto_seasonalities) - Disabling yearly seasonality. Run NeuralProphet with yearly_seasonality=True to override this.\n",
      "INFO - (NP.utils.set_auto_seasonalities) - Disabling daily seasonality. Run NeuralProphet with daily_seasonality=True to override this.\n",
      "INFO - (NP.config.set_auto_batch_epoch) - Auto-set batch_size to 16\n",
      "WARNING - (NP.config.set_lr_finder_args) - Learning rate finder: The number of batches (9) is too small than the required number for the learning rate finder (209). The results might not be optimal.\n"
     ]
    },
    {
     "data": {
      "application/vnd.jupyter.widget-view+json": {
       "model_id": "ed6849c29ec74ac4988a3d0a99ee22ac",
       "version_major": 2,
       "version_minor": 0
      },
      "text/plain": [
       "Finding best initial lr:   0%|          | 0/209 [00:00<?, ?it/s]"
      ]
     },
     "metadata": {},
     "output_type": "display_data"
    },
    {
     "data": {
      "application/vnd.jupyter.widget-view+json": {
       "model_id": "239876695dda41a29ce935c83f220265",
       "version_major": 2,
       "version_minor": 0
      },
      "text/plain": [
       "Training: 0it [00:00, ?it/s]"
      ]
     },
     "metadata": {},
     "output_type": "display_data"
    }
   ],
   "source": [
    "n = NeuralProphet()\n",
    "model = n.fit(new_column, freq='D', epochs=3000)"
   ]
  },
  {
   "cell_type": "code",
   "execution_count": 13,
   "id": "dc22db86",
   "metadata": {},
   "outputs": [
    {
     "name": "stderr",
     "output_type": "stream",
     "text": [
      "INFO - (NP.df_utils._infer_frequency) - Major frequency D corresponds to 99.259% of the data.\n",
      "INFO - (NP.df_utils._infer_frequency) - Defined frequency is equal to major frequency - D\n",
      "INFO - (NP.df_utils.return_df_in_original_format) - Returning df with no ID column\n",
      "INFO - (NP.df_utils._infer_frequency) - Major frequency D corresponds to 95.0% of the data.\n",
      "INFO - (NP.df_utils._infer_frequency) - Defined frequency is equal to major frequency - D\n",
      "INFO - (NP.df_utils._infer_frequency) - Major frequency D corresponds to 95.0% of the data.\n",
      "INFO - (NP.df_utils._infer_frequency) - Defined frequency is equal to major frequency - D\n"
     ]
    },
    {
     "data": {
      "application/vnd.jupyter.widget-view+json": {
       "model_id": "45a7f34c819f4a2090b797c9dfffdcf0",
       "version_major": 2,
       "version_minor": 0
      },
      "text/plain": [
       "Predicting: 9it [00:00, ?it/s]"
      ]
     },
     "metadata": {},
     "output_type": "display_data"
    },
    {
     "name": "stderr",
     "output_type": "stream",
     "text": [
      "INFO - (NP.df_utils.return_df_in_original_format) - Returning df with no ID column\n"
     ]
    },
    {
     "data": {
      "text/html": [
       "<div>\n",
       "<style scoped>\n",
       "    .dataframe tbody tr th:only-of-type {\n",
       "        vertical-align: middle;\n",
       "    }\n",
       "\n",
       "    .dataframe tbody tr th {\n",
       "        vertical-align: top;\n",
       "    }\n",
       "\n",
       "    .dataframe thead th {\n",
       "        text-align: right;\n",
       "    }\n",
       "</style>\n",
       "<table border=\"1\" class=\"dataframe\">\n",
       "  <thead>\n",
       "    <tr style=\"text-align: right;\">\n",
       "      <th></th>\n",
       "      <th>ds</th>\n",
       "      <th>y</th>\n",
       "      <th>yhat1</th>\n",
       "      <th>trend</th>\n",
       "      <th>season_weekly</th>\n",
       "    </tr>\n",
       "  </thead>\n",
       "  <tbody>\n",
       "    <tr>\n",
       "      <th>0</th>\n",
       "      <td>2022-12-21</td>\n",
       "      <td>None</td>\n",
       "      <td>10.814674</td>\n",
       "      <td>11.147670</td>\n",
       "      <td>-0.332995</td>\n",
       "    </tr>\n",
       "    <tr>\n",
       "      <th>1</th>\n",
       "      <td>2022-12-22</td>\n",
       "      <td>None</td>\n",
       "      <td>10.577992</td>\n",
       "      <td>10.787270</td>\n",
       "      <td>-0.209277</td>\n",
       "    </tr>\n",
       "    <tr>\n",
       "      <th>2</th>\n",
       "      <td>2022-12-23</td>\n",
       "      <td>None</td>\n",
       "      <td>10.016492</td>\n",
       "      <td>10.426864</td>\n",
       "      <td>-0.410372</td>\n",
       "    </tr>\n",
       "    <tr>\n",
       "      <th>3</th>\n",
       "      <td>2022-12-24</td>\n",
       "      <td>None</td>\n",
       "      <td>9.919221</td>\n",
       "      <td>10.066458</td>\n",
       "      <td>-0.147237</td>\n",
       "    </tr>\n",
       "    <tr>\n",
       "      <th>4</th>\n",
       "      <td>2022-12-25</td>\n",
       "      <td>None</td>\n",
       "      <td>9.660557</td>\n",
       "      <td>9.706052</td>\n",
       "      <td>-0.045495</td>\n",
       "    </tr>\n",
       "  </tbody>\n",
       "</table>\n",
       "</div>"
      ],
      "text/plain": [
       "          ds     y      yhat1      trend  season_weekly\n",
       "0 2022-12-21  None  10.814674  11.147670      -0.332995\n",
       "1 2022-12-22  None  10.577992  10.787270      -0.209277\n",
       "2 2022-12-23  None  10.016492  10.426864      -0.410372\n",
       "3 2022-12-24  None   9.919221  10.066458      -0.147237\n",
       "4 2022-12-25  None   9.660557   9.706052      -0.045495"
      ]
     },
     "execution_count": 13,
     "metadata": {},
     "output_type": "execute_result"
    }
   ],
   "source": [
    "future = n.make_future_dataframe(new_column, periods=20)\n",
    "forecast = n.predict(future)\n",
    "forecast.head()"
   ]
  },
  {
   "cell_type": "code",
   "execution_count": 14,
   "id": "ac09e1c8",
   "metadata": {},
   "outputs": [
    {
     "name": "stderr",
     "output_type": "stream",
     "text": [
      "WARNING - (NP.plotting.log_warning_deprecation_plotly) - DeprecationWarning: default plotting_backend will be changed to plotly in a future version. Switch to plotly by calling `m.set_plotting_backend('plotly')`.\n"
     ]
    },
    {
     "data": {
      "image/png": "[encoded data removed]",
      "text/plain": [
       "<Figure size 720x432 with 1 Axes>"
      ]
     },
     "metadata": {},
     "output_type": "display_data"
    }
   ],
   "source": [
    "plot = n.plot(forecast)"
   ]
  },
  {
   "cell_type": "code",
   "execution_count": null,
   "id": "bb670629",
   "metadata": {},
   "outputs": [],
   "source": []
  },
  {
   "cell_type": "code",
   "execution_count": null,
   "id": "4c82f78c",
   "metadata": {},
   "outputs": [],
   "source": []
  }
 ],
 "metadata": {
  "kernelspec": {
   "display_name": "Python 3 (ipykernel)",
   "language": "python",
   "name": "python3"
  },
  "language_info": {
   "codemirror_mode": {
    "name": "ipython",
    "version": 3
   },
   "file_extension": ".py",
   "mimetype": "text/x-python",
   "name": "python",
   "nbconvert_exporter": "python",
   "pygments_lexer": "ipython3",
   "version": "3.9.7"
  },
  "vscode": {
   "interpreter": {
    "hash": "d308d994add39b2479968e8690e92fb1ac9b6dfee828e74a727bd43ce9878c24"
   }
  }
 },
 "nbformat": 4,
 "nbformat_minor": 5
}
